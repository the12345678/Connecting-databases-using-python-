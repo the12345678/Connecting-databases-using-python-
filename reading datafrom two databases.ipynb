{
 "cells": [
  {
   "cell_type": "code",
   "execution_count": 11,
   "id": "c21d763e",
   "metadata": {},
   "outputs": [],
   "source": [
    "import pyodbc,pymysql,pandas as pd\n",
    "\n",
    "from sqlalchemy import create_engine"
   ]
  },
  {
   "cell_type": "code",
   "execution_count": 12,
   "id": "5ab12784",
   "metadata": {},
   "outputs": [],
   "source": [
    "#connecting to Microsoft sql server database\n",
    "connection_params = {\n",
    "    'driver': 'SQL Server',\n",
    "    'server': 'DESKTOP-K6HKGAC',\n",
    "    'database': 'CustomInfo1',\n",
    "    'trusted_connection': 'yes',  }\n",
    "\n",
    "# Construct the connection string to the single line \n",
    "conn_str1 = ';'.join([f'{key}={value}' for key, value in connection_params.items()])\n"
   ]
  },
  {
   "cell_type": "code",
   "execution_count": 13,
   "id": "bd0081d6",
   "metadata": {},
   "outputs": [
    {
     "name": "stdout",
     "output_type": "stream",
     "text": [
      "   ClientNumber  BranchCode CustomerType Title  \\\n",
      "0          3621          24            I   Mr.   \n",
      "1          3627          24            I   Mr.   \n",
      "2          3739          24            I   Mr.   \n",
      "3          3798          24            I   Mr.   \n",
      "4          3804          24            I   Mr.   \n",
      "5          5399          24            I   Mr.   \n",
      "6         54594          24            I   Mr.   \n",
      "7         93421          24            I   Mr.   \n",
      "8        103971          24            I  Mrs.   \n",
      "9        181920          24            I   Mr.   \n",
      "\n",
      "                                                Name  \n",
      "0                    XXXXXXXXX XXXXXXXX XXXXXXXXXXXX  \n",
      "1    XXXXXXXXXX XXXXXXXXXXXX XXXXXXXX XXXXXX  XXXXXX  \n",
      "2  XXXXXX XXXXXXXXXXXXX XXXXXXX XXX XXXXXX XXXXXX...  \n",
      "3             XXXXXX XXXXXXXXXXXXX XXXXXXXX  XXXXXXX  \n",
      "4    XXXXXXXXXX XXXXXXXXXXXXX XXXXXXXX  XXXXXXXXXXXX  \n",
      "5             XXXXXXXXXXXX XXXXXXXX XXXXXXXX  XXXXXX  \n",
      "6                    XXXXXXXXXXXX  XXXXX  XXXXXXXXXX  \n",
      "7                     XXXXXX XXXXXXXXXX  XXXXXXXXXXX  \n",
      "8                   XXXXXXXXXXXX XXXX XXXXX  XXXXXXX  \n",
      "9                              XXXXX XXXXX  XXXXXXXX  \n"
     ]
    }
   ],
   "source": [
    "engine = create_engine(f'mssql+pyodbc:///?odbc_connect={conn_str1}')\n",
    "\n",
    "#  SQL query used to get all datarom the table CustomerData\n",
    "mssql_query = \"SELECT * FROM dbo.CustomerData\"\n",
    "\n",
    "# Use read_sql with the engine\n",
    "try:\n",
    "    with engine.connect() as connection:\n",
    "        mssql_df = pd.read_sql(mssql_query, connection)\n",
    "    print(mssql_df)\n",
    "except Exception as e:\n",
    "    print(f\"Error: {e}\")"
   ]
  },
  {
   "cell_type": "code",
   "execution_count": 14,
   "id": "d8ecad9c",
   "metadata": {},
   "outputs": [],
   "source": [
    "maria_conn_params ={\n",
    "    'host':'localhost',\n",
    "    'user':'Dinuka',\n",
    "    'password':'1QXlmCFrDEJgZXHx',\n",
    "    'database':'custominfo2',\n",
    "}\n"
   ]
  },
  {
   "cell_type": "code",
   "execution_count": 16,
   "id": "2a4fb3a2",
   "metadata": {},
   "outputs": [
    {
     "name": "stdout",
     "output_type": "stream",
     "text": [
      "Connected to MariaDB!\n",
      "    ClientNumber CustomerCategory CustomerSubCategory  SegmentCode  \\\n",
      "0           3621               01                0102            4   \n",
      "1           3627               01                0102            4   \n",
      "2           3739               01                0102            4   \n",
      "3           3798               01                0102            4   \n",
      "4         197611               01                0102            1   \n",
      "5         197614               01                0102            1   \n",
      "6         197618               01                0102            1   \n",
      "7         197630               01                0102            1   \n",
      "8         197635               01                0102            1   \n",
      "9         197665               01                0102            1   \n",
      "10        197671               01                0102            1   \n",
      "\n",
      "    BusinessDivision OpeningDate TaxCode  \n",
      "0                  4  2015-07-02    TDS9  \n",
      "1                  4  2015-07-02    TDS9  \n",
      "2                  4  2015-07-03    TDS9  \n",
      "3                  4  2015-07-06    TDS9  \n",
      "4                  2  2022-11-24    TDS0  \n",
      "5                  2  2022-11-24    TDS0  \n",
      "6                  2  2022-11-24    TDS0  \n",
      "7                  2  2022-11-24    TDS0  \n",
      "8                  2  2022-11-24    TDS0  \n",
      "9                  2  2022-11-25    TDS0  \n",
      "10                 2  2022-11-25    TDS0  \n"
     ]
    },
    {
     "name": "stderr",
     "output_type": "stream",
     "text": [
      "C:\\Users\\Theijan\\AppData\\Local\\Temp\\ipykernel_1268\\515581028.py:9: UserWarning: pandas only supports SQLAlchemy connectable (engine/connection) or database string URI or sqlite3 DBAPI2 connection. Other DBAPI2 objects are not tested. Please consider using SQLAlchemy.\n",
      "  mariadb_df = pd.read_sql(mariadb_query, mariadb_conn)\n"
     ]
    }
   ],
   "source": [
    "try:\n",
    "    mariadb_conn = pymysql.connect(**maria_conn_params)\n",
    "    print(\"Connected to MariaDB!\")\n",
    "\n",
    "    # Your MariaDB table query\n",
    "    mariadb_query = \"SELECT * FROM customerinfo\"\n",
    "\n",
    "    # Use pandas to read data from MariaDB\n",
    "    mariadb_df = pd.read_sql(mariadb_query, mariadb_conn)\n",
    "    print(mariadb_df)\n",
    "\n",
    "except Exception as e:\n",
    "    print(f\"Error: {e}\")\n",
    "\n",
    "finally:\n",
    "    mariadb_conn.close()"
   ]
  },
  {
   "cell_type": "code",
   "execution_count": 17,
   "id": "fd87852f",
   "metadata": {},
   "outputs": [],
   "source": [
    "inner_df = pd.merge(mariadb_df, mssql_df, how='inner', left_on='ClientNumber', right_on='ClientNumber')\n",
    "\n",
    "left_df = pd.merge(mariadb_df, mssql_df, how='left', left_on='ClientNumber', right_on='ClientNumber')\n",
    "\n",
    "right_df = pd.merge(mariadb_df, mssql_df, how='right', left_on='ClientNumber', right_on='ClientNumber')\n",
    "\n",
    "outer_df = pd.merge(mariadb_df, mssql_df, how='outer', left_on='ClientNumber', right_on='ClientNumber')\n",
    "\n",
    "union_df = pd.concat([mariadb_df,mssql_df], ignore_index=True)\n"
   ]
  },
  {
   "cell_type": "code",
   "execution_count": 18,
   "id": "b2143e18",
   "metadata": {},
   "outputs": [
    {
     "name": "stdout",
     "output_type": "stream",
     "text": [
      "   ClientNumber CustomerCategory CustomerSubCategory  SegmentCode  \\\n",
      "0          3621               01                0102            4   \n",
      "1          3627               01                0102            4   \n",
      "2          3739               01                0102            4   \n",
      "3          3798               01                0102            4   \n",
      "\n",
      "   BusinessDivision OpeningDate TaxCode  BranchCode CustomerType Title  \\\n",
      "0                 4  2015-07-02    TDS9          24            I   Mr.   \n",
      "1                 4  2015-07-02    TDS9          24            I   Mr.   \n",
      "2                 4  2015-07-03    TDS9          24            I   Mr.   \n",
      "3                 4  2015-07-06    TDS9          24            I   Mr.   \n",
      "\n",
      "                                                Name  \n",
      "0                    XXXXXXXXX XXXXXXXX XXXXXXXXXXXX  \n",
      "1    XXXXXXXXXX XXXXXXXXXXXX XXXXXXXX XXXXXX  XXXXXX  \n",
      "2  XXXXXX XXXXXXXXXXXXX XXXXXXX XXX XXXXXX XXXXXX...  \n",
      "3             XXXXXX XXXXXXXXXXXXX XXXXXXXX  XXXXXXX  \n"
     ]
    }
   ],
   "source": [
    "print(inner_df)"
   ]
  },
  {
   "cell_type": "code",
   "execution_count": 19,
   "id": "01a8a82b",
   "metadata": {},
   "outputs": [],
   "source": [
    "connection_params = {\n",
    "    'driver': 'SQL Server',\n",
    "    'server': 'DESKTOP-K6HKGAC',\n",
    "    'database': 'Joined_customer_database',\n",
    "    'trusted_connection': 'yes',  }\n",
    "\n",
    "# Construct the connection string to the single line \n",
    "conn_str1 = ';'.join([f'{key}={value}' for key, value in connection_params.items()])\n"
   ]
  },
  {
   "cell_type": "code",
   "execution_count": 20,
   "id": "9ed1dcbc",
   "metadata": {},
   "outputs": [
    {
     "name": "stdout",
     "output_type": "stream",
     "text": [
      "Tables successfully saved to SQL Server!\n"
     ]
    }
   ],
   "source": [
    "engine = create_engine(f'mssql+pyodbc:///?odbc_connect={conn_str1}')\n",
    "\n",
    "try:\n",
    "    inner_df.to_sql('inner_table', con=engine, index=False, if_exists='replace')\n",
    "    left_df.to_sql('left_table', con=engine, index=False, if_exists='replace')\n",
    "    right_df.to_sql('right_table', con=engine, index=False, if_exists='replace')\n",
    "    outer_df.to_sql('outer_table', con=engine, index=False, if_exists='replace')\n",
    "    union_df.to_sql('union_table',con=engine, index=False, if_exists='replace')\n",
    "    \n",
    "    print(\"Tables successfully saved to SQL Server!\")\n",
    "\n",
    "except Exception as e:\n",
    "    print(f\"Error: {e}\")\n",
    "\n",
    "finally:\n",
    "    engine.dispose() "
   ]
  },
  {
   "cell_type": "code",
   "execution_count": null,
   "id": "f2af9a2b",
   "metadata": {},
   "outputs": [],
   "source": []
  }
 ],
 "metadata": {
  "kernelspec": {
   "display_name": "Python 3 (ipykernel)",
   "language": "python",
   "name": "python3"
  },
  "language_info": {
   "codemirror_mode": {
    "name": "ipython",
    "version": 3
   },
   "file_extension": ".py",
   "mimetype": "text/x-python",
   "name": "python",
   "nbconvert_exporter": "python",
   "pygments_lexer": "ipython3",
   "version": "3.11.5"
  }
 },
 "nbformat": 4,
 "nbformat_minor": 5
}
